{
 "cells": [
  {
   "attachments": {},
   "cell_type": "markdown",
   "metadata": {},
   "source": [
    "Generate training set "
   ]
  },
  {
   "cell_type": "code",
   "execution_count": 1,
   "metadata": {},
   "outputs": [],
   "source": [
    "\n",
    "from gen_synthetic_imgs import gen_synth_with_bgimg\n",
    "imgs_src= \"/home/sirine/fiftyone/coco-2014/train/data\"\n",
    "imgs_dest = \"/home/sirine/Desktop/object_detection_data/images/train\"\n",
    "ann_dest=\"/home/sirine/Desktop/object_detection_data/labels/train\"\n",
    "gen_synth_with_bgimg(2000, imgs_src, imgs_dest, ann_dest)"
   ]
  },
  {
   "attachments": {},
   "cell_type": "markdown",
   "metadata": {},
   "source": [
    "Generate validation set "
   ]
  },
  {
   "cell_type": "code",
   "execution_count": 2,
   "metadata": {},
   "outputs": [],
   "source": [
    "imgs_src_v= \"/home/sirine/fiftyone/data/COCOText_yolo_format/images/train\"\n",
    "imgs_dest_v = \"/home/sirine/fiftyone/data/last/images/val\"\n",
    "ann_dest_v=\"/home/sirine/fiftyone/data/last/labels/val\"\n",
    "gen_synth_with_bgimg(50, imgs_src_v, imgs_dest_v, ann_dest_v)"
   ]
  },
  {
   "cell_type": "code",
   "execution_count": null,
   "metadata": {},
   "outputs": [],
   "source": []
  }
 ],
 "metadata": {
  "kernelspec": {
   "display_name": "Python 3",
   "language": "python",
   "name": "python3"
  },
  "language_info": {
   "codemirror_mode": {
    "name": "ipython",
    "version": 3
   },
   "file_extension": ".py",
   "mimetype": "text/x-python",
   "name": "python",
   "nbconvert_exporter": "python",
   "pygments_lexer": "ipython3",
   "version": "3.8.10"
  },
  "orig_nbformat": 4
 },
 "nbformat": 4,
 "nbformat_minor": 2
}
